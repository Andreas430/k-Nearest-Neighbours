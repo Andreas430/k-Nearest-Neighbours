{
 "cells": [
  {
   "cell_type": "markdown",
   "metadata": {},
   "source": [
    "#### Import dependencies"
   ]
  },
  {
   "cell_type": "code",
   "execution_count": 1,
   "metadata": {},
   "outputs": [],
   "source": [
    "import pandas\n",
    "import numpy as np\n",
    "import matplotlib.pyplot as plt\n",
    "from scipy import linalg"
   ]
  },
  {
   "cell_type": "markdown",
   "metadata": {},
   "source": [
    "#### Random data for toy problem"
   ]
  },
  {
   "cell_type": "code",
   "execution_count": 2,
   "metadata": {},
   "outputs": [],
   "source": [
    "a= np.random.normal(0,1,2000).reshape(2000,1)\n",
    "b = np.ones((2000,2))\n",
    "\n",
    "for i in range(2000):\n",
    "    b[i][0] = a[i]\n",
    "    b[i][1] = a[i]*2  + np.random.normal()\n"
   ]
  },
  {
   "cell_type": "code",
   "execution_count": 3,
   "metadata": {},
   "outputs": [
    {
     "data": {
      "text/html": [
       "<div>\n",
       "<style scoped>\n",
       "    .dataframe tbody tr th:only-of-type {\n",
       "        vertical-align: middle;\n",
       "    }\n",
       "\n",
       "    .dataframe tbody tr th {\n",
       "        vertical-align: top;\n",
       "    }\n",
       "\n",
       "    .dataframe thead th {\n",
       "        text-align: right;\n",
       "    }\n",
       "</style>\n",
       "<table border=\"1\" class=\"dataframe\">\n",
       "  <thead>\n",
       "    <tr style=\"text-align: right;\">\n",
       "      <th></th>\n",
       "      <th>X</th>\n",
       "      <th>Y</th>\n",
       "    </tr>\n",
       "  </thead>\n",
       "  <tbody>\n",
       "    <tr>\n",
       "      <th>0</th>\n",
       "      <td>0.623948</td>\n",
       "      <td>0.731502</td>\n",
       "    </tr>\n",
       "    <tr>\n",
       "      <th>1</th>\n",
       "      <td>-1.405083</td>\n",
       "      <td>-1.919281</td>\n",
       "    </tr>\n",
       "    <tr>\n",
       "      <th>2</th>\n",
       "      <td>-0.182268</td>\n",
       "      <td>-0.167510</td>\n",
       "    </tr>\n",
       "    <tr>\n",
       "      <th>3</th>\n",
       "      <td>-0.336580</td>\n",
       "      <td>-1.716161</td>\n",
       "    </tr>\n",
       "    <tr>\n",
       "      <th>4</th>\n",
       "      <td>1.480660</td>\n",
       "      <td>1.733938</td>\n",
       "    </tr>\n",
       "    <tr>\n",
       "      <th>...</th>\n",
       "      <td>...</td>\n",
       "      <td>...</td>\n",
       "    </tr>\n",
       "    <tr>\n",
       "      <th>1995</th>\n",
       "      <td>-1.538802</td>\n",
       "      <td>-3.234821</td>\n",
       "    </tr>\n",
       "    <tr>\n",
       "      <th>1996</th>\n",
       "      <td>1.054194</td>\n",
       "      <td>2.100876</td>\n",
       "    </tr>\n",
       "    <tr>\n",
       "      <th>1997</th>\n",
       "      <td>0.914434</td>\n",
       "      <td>2.092558</td>\n",
       "    </tr>\n",
       "    <tr>\n",
       "      <th>1998</th>\n",
       "      <td>-0.563204</td>\n",
       "      <td>0.479347</td>\n",
       "    </tr>\n",
       "    <tr>\n",
       "      <th>1999</th>\n",
       "      <td>-1.804797</td>\n",
       "      <td>-3.552115</td>\n",
       "    </tr>\n",
       "  </tbody>\n",
       "</table>\n",
       "<p>2000 rows × 2 columns</p>\n",
       "</div>"
      ],
      "text/plain": [
       "             X         Y\n",
       "0     0.623948  0.731502\n",
       "1    -1.405083 -1.919281\n",
       "2    -0.182268 -0.167510\n",
       "3    -0.336580 -1.716161\n",
       "4     1.480660  1.733938\n",
       "...        ...       ...\n",
       "1995 -1.538802 -3.234821\n",
       "1996  1.054194  2.100876\n",
       "1997  0.914434  2.092558\n",
       "1998 -0.563204  0.479347\n",
       "1999 -1.804797 -3.552115\n",
       "\n",
       "[2000 rows x 2 columns]"
      ]
     },
     "execution_count": 3,
     "metadata": {},
     "output_type": "execute_result"
    }
   ],
   "source": [
    "df = pandas.DataFrame(b, columns = ['X','Y'])\n",
    "df"
   ]
  },
  {
   "cell_type": "markdown",
   "metadata": {},
   "source": [
    "#### Normalize X data"
   ]
  },
  {
   "cell_type": "code",
   "execution_count": 4,
   "metadata": {},
   "outputs": [
    {
     "data": {
      "text/html": [
       "<div>\n",
       "<style scoped>\n",
       "    .dataframe tbody tr th:only-of-type {\n",
       "        vertical-align: middle;\n",
       "    }\n",
       "\n",
       "    .dataframe tbody tr th {\n",
       "        vertical-align: top;\n",
       "    }\n",
       "\n",
       "    .dataframe thead th {\n",
       "        text-align: right;\n",
       "    }\n",
       "</style>\n",
       "<table border=\"1\" class=\"dataframe\">\n",
       "  <thead>\n",
       "    <tr style=\"text-align: right;\">\n",
       "      <th></th>\n",
       "      <th>X</th>\n",
       "      <th>Y</th>\n",
       "    </tr>\n",
       "  </thead>\n",
       "  <tbody>\n",
       "    <tr>\n",
       "      <th>0</th>\n",
       "      <td>0.653828</td>\n",
       "      <td>0.731502</td>\n",
       "    </tr>\n",
       "    <tr>\n",
       "      <th>1</th>\n",
       "      <td>-1.381475</td>\n",
       "      <td>-1.919281</td>\n",
       "    </tr>\n",
       "    <tr>\n",
       "      <th>2</th>\n",
       "      <td>-0.154880</td>\n",
       "      <td>-0.167510</td>\n",
       "    </tr>\n",
       "    <tr>\n",
       "      <th>3</th>\n",
       "      <td>-0.309669</td>\n",
       "      <td>-1.716161</td>\n",
       "    </tr>\n",
       "    <tr>\n",
       "      <th>4</th>\n",
       "      <td>1.513189</td>\n",
       "      <td>1.733938</td>\n",
       "    </tr>\n",
       "    <tr>\n",
       "      <th>...</th>\n",
       "      <td>...</td>\n",
       "      <td>...</td>\n",
       "    </tr>\n",
       "    <tr>\n",
       "      <th>1995</th>\n",
       "      <td>-1.515608</td>\n",
       "      <td>-3.234821</td>\n",
       "    </tr>\n",
       "    <tr>\n",
       "      <th>1996</th>\n",
       "      <td>1.085404</td>\n",
       "      <td>2.100876</td>\n",
       "    </tr>\n",
       "    <tr>\n",
       "      <th>1997</th>\n",
       "      <td>0.945212</td>\n",
       "      <td>2.092558</td>\n",
       "    </tr>\n",
       "    <tr>\n",
       "      <th>1998</th>\n",
       "      <td>-0.536994</td>\n",
       "      <td>0.479347</td>\n",
       "    </tr>\n",
       "    <tr>\n",
       "      <th>1999</th>\n",
       "      <td>-1.782425</td>\n",
       "      <td>-3.552115</td>\n",
       "    </tr>\n",
       "  </tbody>\n",
       "</table>\n",
       "<p>2000 rows × 2 columns</p>\n",
       "</div>"
      ],
      "text/plain": [
       "             X         Y\n",
       "0     0.653828  0.731502\n",
       "1    -1.381475 -1.919281\n",
       "2    -0.154880 -0.167510\n",
       "3    -0.309669 -1.716161\n",
       "4     1.513189  1.733938\n",
       "...        ...       ...\n",
       "1995 -1.515608 -3.234821\n",
       "1996  1.085404  2.100876\n",
       "1997  0.945212  2.092558\n",
       "1998 -0.536994  0.479347\n",
       "1999 -1.782425 -3.552115\n",
       "\n",
       "[2000 rows x 2 columns]"
      ]
     },
     "execution_count": 4,
     "metadata": {},
     "output_type": "execute_result"
    }
   ],
   "source": [
    "yield_column = df.loc[:, df.columns == 'Y'] \n",
    "del df['Y']\n",
    "normalized_df = (df-df.mean())/df.std()\n",
    "normalized_df = pandas.merge(normalized_df, yield_column, left_index=True, right_index=True)\n",
    "normalized_df"
   ]
  },
  {
   "cell_type": "code",
   "execution_count": 5,
   "metadata": {},
   "outputs": [
    {
     "data": {
      "image/png": "[encoded data removed]",
      "text/plain": [
       "<Figure size 432x288 with 1 Axes>"
      ]
     },
     "metadata": {
      "needs_background": "light"
     },
     "output_type": "display_data"
    }
   ],
   "source": [
    "plt.scatter('X','Y',data =normalized_df, marker = '+', color = 'burlywood')\n",
    "plt.ylabel('Y-data')\n",
    "plt.xlabel('X-data')\n",
    "plt.title('Toy problem data')\n",
    "plt.show()"
   ]
  },
  {
   "cell_type": "code",
   "execution_count": 6,
   "metadata": {},
   "outputs": [],
   "source": [
    "def mse(y_pred,y_test):\n",
    "    '''Returns the mean squared error given two numpy arrays'''\n",
    "    sum_squared_error = np.sum(np.square(y_test - y_pred))\n",
    "    m_s_e = sum_squared_error/len(y_pred)\n",
    "    return m_s_e\n",
    "\n",
    "\n"
   ]
  },
  {
   "cell_type": "code",
   "execution_count": 7,
   "metadata": {},
   "outputs": [],
   "source": [
    "# Split the data into 60%-40% for train/test\n",
    "split = int(len(df)*0.6)\n",
    "data = np.array(normalized_df)\n",
    "np.random.seed(0)\n",
    "shuffle = np.random.permutation(len(data))\n"
   ]
  },
  {
   "cell_type": "code",
   "execution_count": 8,
   "metadata": {},
   "outputs": [],
   "source": [
    "def knn_predictions(xTrain,yTrain,xTest,k=3):\n",
    "   \n",
    "    indices, distances = knn(xTrain,xTest,k)\n",
    "    yTrain = yTrain.flatten()\n",
    "    rows, columns = indices.shape\n",
    "    predictions = list()\n",
    "    for j in range(columns):\n",
    "        temp = list()\n",
    "        for i in range(rows):\n",
    "            cell = indices[i][j]\n",
    "            temp.append(yTrain[cell])\n",
    "        predictions.append(max(temp,key=temp.count)) #this is the key function, brings the mode value\n",
    "    predictions=np.array(predictions)\n",
    "    return predictions"
   ]
  },
  {
   "cell_type": "code",
   "execution_count": 9,
   "metadata": {},
   "outputs": [],
   "source": [
    "def knn(xTrain, xTest, k):\n",
    " \n",
    "    #the following formula calculates the Euclidean distances.\n",
    "    distances = -2 * xTrain@xTest.T + np.sum(xTest**2,axis=1) + np.sum(xTrain**2,axis=1)[:, np.newaxis]\n",
    "\n",
    "    distances[distances < 0] = 0\n",
    "    \n",
    "    distances = distances**.5\n",
    "    indices = np.argsort(distances, 0) #get indices of sorted items\n",
    "    distances = np.sort(distances,0) #distances sorted in axis 0\n",
    "    #returning the top-k closest distances.\n",
    "    return indices[0:k, : ], distances[0:k, : ]"
   ]
  },
  {
   "cell_type": "code",
   "execution_count": 10,
   "metadata": {},
   "outputs": [],
   "source": [
    "x_knn = normalized_df.iloc[:,:-1].to_numpy()\n",
    "y_knn = normalized_df.iloc[:,-1].to_numpy()\n",
    "x_knn = x_knn[shuffle]\n",
    "y_knn = y_knn[shuffle]\n",
    "x_train_knn= x_knn[:split]\n",
    "y_train_knn = y_knn[:split]\n",
    "\n",
    "x_test_knn = x_knn[split:]\n",
    "y_test_knn = y_knn[split:]"
   ]
  },
  {
   "cell_type": "code",
   "execution_count": 11,
   "metadata": {},
   "outputs": [
    {
     "name": "stdout",
     "output_type": "stream",
     "text": [
      "The mean squared error for the Κnn toy problem is 1.9709045830318852\n"
     ]
    }
   ],
   "source": [
    "y_pred_knn = knn_predictions(x_train_knn,y_train_knn,x_test_knn,k=4)\n",
    "print(\"The mean squared error for the Κnn toy problem is {}\".format(mse(y_pred_knn,y_test_knn)))"
   ]
  },
  {
   "cell_type": "code",
   "execution_count": 12,
   "metadata": {},
   "outputs": [
    {
     "data": {
      "text/plain": [
       "<matplotlib.legend.Legend at 0x25404ae12e0>"
      ]
     },
     "execution_count": 12,
     "metadata": {},
     "output_type": "execute_result"
    },
    {
     "data": {
      "image/png": "[encoded data removed]",
      "text/plain": [
       "<Figure size 504x504 with 1 Axes>"
      ]
     },
     "metadata": {
      "needs_background": "light"
     },
     "output_type": "display_data"
    }
   ],
   "source": [
    "plt.figure(figsize=(7,7))\n",
    "plt.scatter(x_test_knn,y_test_knn,color = 'orchid',marker = '+')\n",
    "plt.scatter(x_test_knn,y_pred_knn,color = 'cornflowerblue',marker = '+')\n",
    "plt.title('Knn')\n",
    "plt.xlabel('X')\n",
    "plt.ylabel('Y')\n",
    "\n",
    "plt.legend([\"Expected\", \"Predicted\"], loc =\"lower right\",prop={'size': 15} )"
   ]
  }
 ],
 "metadata": {
  "kernelspec": {
   "display_name": "Python 3",
   "language": "python",
   "name": "python3"
  },
  "language_info": {
   "codemirror_mode": {
    "name": "ipython",
    "version": 3
   },
   "file_extension": ".py",
   "mimetype": "text/x-python",
   "name": "python",
   "nbconvert_exporter": "python",
   "pygments_lexer": "ipython3",
   "version": "3.8.8"
  }
 },
 "nbformat": 4,
 "nbformat_minor": 4
}
